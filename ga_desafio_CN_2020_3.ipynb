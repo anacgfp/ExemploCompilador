{
  "nbformat": 4,
  "nbformat_minor": 0,
  "metadata": {
    "colab": {
      "name": "ga_desafio_CN_2020_3.ipynb",
      "provenance": [],
      "collapsed_sections": [],
      "authorship_tag": "ABX9TyPzyOAVz8pe6SPGQX0My8N7",
      "include_colab_link": true
    },
    "kernelspec": {
      "name": "python3",
      "display_name": "Python 3"
    }
  },
  "cells": [
    {
      "cell_type": "markdown",
      "metadata": {
        "id": "view-in-github",
        "colab_type": "text"
      },
      "source": [
        "<a href=\"https://colab.research.google.com/github/anacgfp/ExemploCompilador/blob/master/ga_desafio_CN_2020_3.ipynb\" target=\"_parent\"><img src=\"https://colab.research.google.com/assets/colab-badge.svg\" alt=\"Open In Colab\"/></a>"
      ]
    },
    {
      "cell_type": "markdown",
      "metadata": {
        "id": "18fxOi16KCJp"
      },
      "source": [
        "Você deverá construir um modelo, utilizando Algoritmo Genético, para resolver a demanda de entregas das Lojas do Recife. Porém, este seu modelo deve seguir a lógica do Problema do Caixeiro Viajante (PCV), onde é preciso determinar a menor rota para percorrer uma série de cidades (visitando uma única vez cada uma delas), e retornar à cidade de origem.\n",
        "\n",
        "**Considerações**\n",
        "\n",
        "\n",
        "\n",
        "1.   A função de aptidão (fitness) será 1 / d, onde “d” é a distância total percorrida.\n",
        "2.   A distância pode ser calculada usando a distância euclidiana entre as cidades.\n",
        "3.   A sua solução deve sempre gerar rotas sintaticamente corretas, isto é, as rotas devem visitar cada cidade apenas uma vez, retornando à cidade de origem.\n",
        "\n",
        "\n",
        "\n",
        "**Entrega**\n",
        "\n",
        "Você deverá entregar um relatório contendo:\n",
        "1. Comparação entre os resultados obtidos pelos diferentes métodos de seleção (roleta, torneio e elitismo);\n",
        "2. Validar ao menos dois operadores de crossover e comentar seus resultados;\n",
        "3. Validar ao menos dois operadores de mutação e comentar seus resultados;\n",
        "4. Exibir a Rota Final\n"
      ]
    },
    {
      "cell_type": "code",
      "metadata": {
        "id": "geE4xWsKKo0a"
      },
      "source": [
        "import pandas as pd\n",
        "import numpy as np\n",
        "import math\n",
        "import matplotlib as mplib\n",
        "import random"
      ],
      "execution_count": 1,
      "outputs": []
    },
    {
      "cell_type": "code",
      "metadata": {
        "id": "Ov6O_UflLYwE"
      },
      "source": [
        "#Problem representation \n",
        "bairros_list = [\"Aflitos\",\n",
        "\"Casa Amarela\",\n",
        "\"Casa Forte\",\n",
        "\"Campo Grande\",\n",
        "\"Boa Viagem\",\n",
        "\"Piedade\",\n",
        "\"Cidade Universitária\",\n",
        "\"Derby\",\n",
        "\"Encruzilhada\",\n",
        "\"Ibura\"]\n",
        "x_list = [50,140,110,30,240,400,330,80,30,280]\n",
        "y_list = [60,78,55,108,378,128,256,15,20,12]"
      ],
      "execution_count": 2,
      "outputs": []
    },
    {
      "cell_type": "code",
      "metadata": {
        "id": "bjRHsJwG-zIC"
      },
      "source": [
        "class Bairro:\n",
        "  def __init__(self, nome, x, y):\n",
        "    self.nome = nome\n",
        "    self.x = x\n",
        "    self.y = y\n",
        "\n",
        "#euclidian distance between two neighborhoods\n",
        "  def get_dist(self, bairro):\n",
        "    return math.sqrt((bairro.x - self.x)**2 + (bairro.y - self.y)**2)\n",
        "  \n",
        "  def print_bairro(self):\n",
        "    print(self.nome, ' ', self.x, ' ', self.y)"
      ],
      "execution_count": 3,
      "outputs": []
    },
    {
      "cell_type": "code",
      "metadata": {
        "id": "AdM4xAVcAjBS"
      },
      "source": [
        "def inicializar_bairros():\n",
        "  bairros = []\n",
        "  for i in range(0, len(bairros_list)):\n",
        "    bairros.append(Bairro(bairros_list[i], x_list[i], y_list[i]))\n",
        "  return bairros\n",
        "# for i in inicializar_bairros():\n",
        "#   i.print_bairro()\n",
        "BAIRROS = inicializar_bairros()"
      ],
      "execution_count": 4,
      "outputs": []
    },
    {
      "cell_type": "code",
      "metadata": {
        "id": "pAeEyEx7VBrO"
      },
      "source": [
        "#parameters and constants\n",
        "TWO = 2\n",
        "\n",
        "pop_size = 10\n",
        "pm = 0.1\n",
        "selection_op = 'elitism'\n",
        "crossover_op = 'single point'\n",
        "mutation_op = 'random' "
      ],
      "execution_count": 5,
      "outputs": []
    },
    {
      "cell_type": "code",
      "metadata": {
        "id": "F2aiADQByxmq",
        "outputId": "c459d6e5-2e21-4af6-ecfd-0e10eb464fd9",
        "colab": {
          "base_uri": "https://localhost:8080/",
          "height": 265
        }
      },
      "source": [
        "class Individual:\n",
        "  def __init__(self, BAIRROS):\n",
        "    self.bairros = random.sample(BAIRROS, len(BAIRROS))\n",
        "    self.fitness = self.get_fitness()\n",
        "\n",
        "  #Calculating the fitness of the the individual (route)\n",
        "  def get_fitness(self):\n",
        "    distance = 0\n",
        "    for i in range(0, len(self.bairros)):\n",
        "      if(i == len(self.bairros) -1):\n",
        "        distance += self.bairros[i].get_dist(self.bairros[0])\n",
        "      else:\n",
        "        distance += self.bairros[i].get_dist(self.bairros[i+1])\n",
        "    return 1/distance\n",
        "\n",
        "  #printing individuals\n",
        "  def print_ind(self):\n",
        "    for i in self.bairros:\n",
        "     i.print_bairro()\n",
        "    \n",
        "  #plotting individuals\n",
        "  def plot_ind(self):\n",
        "    aux_x = []\n",
        "    aux_y = []\n",
        "    for i in self.bairros:\n",
        "      aux_x.append(i.x)\n",
        "      aux_y.append(i.y)\n",
        "    mplib.pyplot.scatter(aux_x, aux_y) \n",
        "    mplib.pyplot.plot(aux_x, aux_y) \n",
        "\n",
        "\n",
        "Individual(BAIRROS).plot_ind()"
      ],
      "execution_count": 6,
      "outputs": [
        {
          "output_type": "display_data",
          "data": {
            "image/png": "[encoded data removed]",
            "text/plain": [
              "<Figure size 432x288 with 1 Axes>"
            ]
          },
          "metadata": {
            "tags": [],
            "needs_background": "light"
          }
        }
      ]
    },
    {
      "cell_type": "code",
      "metadata": {
        "id": "TVTXGDuFP7QF"
      },
      "source": [
        "#generate the population\n",
        "class Population:\n",
        "  def __init__(self, pop_size, pop_list):\n",
        "    self.pop = pop_list\n",
        "\n",
        "\n",
        "  def get_best(self):\n",
        "    best_individual = self.pop[0]\n",
        "    for i in self.pop:\n",
        "      if i.get_fitness() > best_individual.get_fitness():\n",
        "        best_individual = i\n",
        "    return best_individual\n",
        "\n",
        "  def print_pop(self):\n",
        "    for i in self.pop:\n",
        "      i.print_ind()\n",
        "      print('------------------------------------------')\n",
        "\n",
        "\n",
        "# population = Population(pop_size)\n",
        "# population.get_best().print_ind()\n",
        "#population.print_pop()"
      ],
      "execution_count": 7,
      "outputs": []
    },
    {
      "cell_type": "code",
      "metadata": {
        "id": "h_1CIF-gftL4",
        "outputId": "25823b03-d180-4cce-8b45-cd11be6f7ea0",
        "colab": {
          "base_uri": "https://localhost:8080/",
          "height": 51
        }
      },
      "source": [
        "#selection operators - roulette\n",
        "# BEGIN\n",
        "# /* Given the cumulative probability distribution a */\n",
        "# /* and assuming we wish to select λ members of the mating pool */\n",
        "# set current member = 1;\n",
        "# WHILE ( current member ≤ λ ) DO\n",
        "# Pick a random value r uniformly from [0, 1];\n",
        "# set i = 1;\n",
        "# WHILE ( a i < r ) DO\n",
        "# set i = i + 1;\n",
        "# OD\n",
        "# set mating pool[current member] = parents[i];\n",
        "# set current member = current member + 1;\n",
        "# OD\n",
        "# END\n",
        "def get_fitness_list(pop):\n",
        "  fitness_list = []\n",
        "  for i in range(0, pop_size):\n",
        "    fitness_list.append(pop.pop[i].get_fitness())\n",
        "  return fitness_list\n",
        "\n",
        "\n",
        "def get_prob_distr(pop, fitness_list):\n",
        "  prob_distr = []\n",
        "  a = 0\n",
        "  total_fitness = sum(fitness_list)\n",
        "  for i in fitness_list:\n",
        "    a += i/total_fitness\n",
        "    prob_distr.append(a)\n",
        "  return prob_distr\n",
        "\n",
        "pop = []\n",
        "for _ in range(0, pop_size):\n",
        "  pop.append(Individual(BAIRROS))\n",
        "population = Population(pop_size, pop)\n",
        "fitness_list = get_fitness_list(population)\n",
        "prob_distr = get_prob_distr(population, fitness_list)\n",
        "\n",
        "def roulette(population, number_parents, prob_distr):\n",
        "  parents = []\n",
        "  n = 0\n",
        "  while n < number_parents:\n",
        "    r = random.random()\n",
        "    i = 0\n",
        "    while  prob_distr[i] < r:\n",
        "      i += 1\n",
        "    parents.append( population.pop[i])\n",
        "    n += 1\n",
        "  return parents\n",
        "\n",
        "#test\n",
        "roulette(population, TWO, prob_distr)"
      ],
      "execution_count": 8,
      "outputs": [
        {
          "output_type": "execute_result",
          "data": {
            "text/plain": [
              "[<__main__.Individual at 0x7fbe6ca40d30>,\n",
              " <__main__.Individual at 0x7fbe6ca40320>]"
            ]
          },
          "metadata": {
            "tags": []
          },
          "execution_count": 8
        }
      ]
    },
    {
      "cell_type": "code",
      "metadata": {
        "id": "L1imKjDbqQKJ",
        "outputId": "59cbdd00-f860-42d0-e128-e340494107f3",
        "colab": {
          "base_uri": "https://localhost:8080/",
          "height": 71
        }
      },
      "source": [
        "#selection operators - tournament\n",
        "# BEGIN\n",
        "# /* Assume we wish to select λ members of a pool of μ individuals */\n",
        "# set current member = 1;\n",
        "# WHILE ( current member ≤ λ ) DO\n",
        "# Pick k individuals randomly, with or without replacement;\n",
        "# Compare these k individuals and select the best of them;\n",
        "# Denote this individual as i;\n",
        "# set mating pool[current member] = i;\n",
        "# set current member = current member + 1;\n",
        "# OD\n",
        "# END\n",
        "def tournament(pop, n_parents, k):\n",
        "  current_member = 1\n",
        "  mating_pool = []\n",
        "  while current_member <= n_parents:\n",
        "    new_pop = Population(k, random.sample(pop, k))\n",
        "    best = new_pop.get_best()\n",
        "    mating_pool.append(best)\n",
        "    current_member += 1\n",
        "  return mating_pool\n",
        "\n",
        "print(tournament(population.pop, TWO, 10))\n",
        "#selection operators - elitism\n",
        "#keeps the best individual of each generation, and the rest is done in \"classical\" way? \n",
        "#returns the list without the best, because it will be keeped anyway\n",
        "#reproduz aleatoriamente e pega os melhores\n",
        "# @ TODO\n",
        "def elitism(population, n_parents):\n",
        "  mating_pool = population.pop.copy()\n",
        "  mating_pool.remove(population.get_best())\n",
        "  return mating_pool\n",
        "\n",
        "print(elitism(population, TWO))"
      ],
      "execution_count": 9,
      "outputs": [
        {
          "output_type": "stream",
          "text": [
            "[<__main__.Individual object at 0x7fbe6ca403c8>, <__main__.Individual object at 0x7fbe6ca403c8>]\n",
            "[<__main__.Individual object at 0x7fbe6ca40a58>, <__main__.Individual object at 0x7fbe6ca40ba8>, <__main__.Individual object at 0x7fbe6ca40be0>, <__main__.Individual object at 0x7fbe6ca40d68>, <__main__.Individual object at 0x7fbe6ca40e80>, <__main__.Individual object at 0x7fbe6ca40d30>, <__main__.Individual object at 0x7fbe6ca40ef0>, <__main__.Individual object at 0x7fbe6ca40320>, <__main__.Individual object at 0x7fbe6ca40668>]\n"
          ],
          "name": "stdout"
        }
      ]
    },
    {
      "cell_type": "code",
      "metadata": {
        "id": "mKHirEKrV_JV",
        "outputId": "6f6b0631-5ea6-4844-982f-5929e084b322",
        "colab": {
          "base_uri": "https://localhost:8080/",
          "height": 129
        }
      },
      "source": [
        "#reproduction operators - crossover \n",
        "# Procedure: OX\n",
        "# 1. Select a substring from a parent at random.\n",
        "# 2. Produce a proto-child by copying the substring into the\n",
        "# corresponding position of it.\n",
        "# 3. Delete the cities which are already in the substring from the 2nd\n",
        "# parent. The resulted sequence of citires contains the cities that the\n",
        "# proto-child needs.\n",
        "# 4. Place the cities into the unfixed positions of the proto-child from left\n",
        "# to right according to the order of the sequence to produce an\n",
        "# offspring.\n",
        "def order_crossover(parent1, parent2):\n",
        "  "
      ],
      "execution_count": 10,
      "outputs": [
        {
          "output_type": "error",
          "ename": "SyntaxError",
          "evalue": "ignored",
          "traceback": [
            "\u001b[0;36m  File \u001b[0;32m\"<ipython-input-10-bf10cec86084>\"\u001b[0;36m, line \u001b[0;32m13\u001b[0m\n\u001b[0;31m    \u001b[0m\n\u001b[0m    ^\u001b[0m\n\u001b[0;31mSyntaxError\u001b[0m\u001b[0;31m:\u001b[0m unexpected EOF while parsing\n"
          ]
        }
      ]
    },
    {
      "cell_type": "code",
      "metadata": {
        "id": "UEh7d2q9WFFF"
      },
      "source": [
        "#reproduction operators - mutation"
      ],
      "execution_count": null,
      "outputs": []
    }
  ]
}